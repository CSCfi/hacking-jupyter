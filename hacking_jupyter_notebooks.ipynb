{
 "cells": [
  {
   "cell_type": "markdown",
   "metadata": {},
   "source": [
    "# Jupyter notebooks and Pebbles"
   ]
  },
  {
   "cell_type": "markdown",
   "metadata": {},
   "source": [
    "What's under the hood?\n",
    "\n",
    "Select the cell below and press ctrl+Enter"
   ]
  },
  {
   "cell_type": "code",
   "execution_count": null,
   "metadata": {},
   "outputs": [],
   "source": [
    "!uname -a"
   ]
  },
  {
   "cell_type": "markdown",
   "metadata": {},
   "source": [
    "[Pebbles](https://github.com/cscfi/pebbles/) is a system that runs Jupyter Notebooks and RStudio Server instances in containers in the cloud. Containers are Linux flavours.\n",
    "\n",
    "If you prepend a line in a code shell with !, Jupyter will run the rest of that line as a command line command in the underlying container and display the standard output of the command to you. This is essential in modifying the base image from inside a notebook.\n",
    "\n",
    "The other type of cells are Markdown cells, which contain text in [Markdown](https://daringfireball.net/projects/markdown/syntax) format.\n",
    "\n",
    "You can either select this cell and press enter to view the source or double click it. Like with a code cell, ctrl+Enter \"runs\" the code or you can press the play button in the menu."
   ]
  },
  {
   "cell_type": "code",
   "execution_count": null,
   "metadata": {},
   "outputs": [],
   "source": [
    "!cat /etc/issue"
   ]
  },
  {
   "cell_type": "markdown",
   "metadata": {},
   "source": [
    "The details of the containers often vary between image providers, but Debian/Ubuntu variants are popular. If you want to make modifications you have the permission to do most things a user has the permission to do."
   ]
  },
  {
   "cell_type": "markdown",
   "metadata": {},
   "source": [
    "## Basic use\n",
    "\n",
    "A typical Jupyter notebook consists of alternating code and markdown cells that tell a narrative.\n",
    "\n",
    "This is how we do a Hello World in Python."
   ]
  },
  {
   "cell_type": "code",
   "execution_count": null,
   "metadata": {},
   "outputs": [],
   "source": [
    "print(\"Hello World!\")"
   ]
  },
  {
   "cell_type": "markdown",
   "metadata": {},
   "source": [
    "If the code in a code cell prints something to stdout, that is printed after the code cell.\n",
    "\n",
    "If the last thing in a cell is a variable, the value of that variable is given separately and labeled as the output of that value."
   ]
  },
  {
   "cell_type": "code",
   "execution_count": null,
   "metadata": {},
   "outputs": [],
   "source": [
    "print(\"Hello world\")\n",
    "var = \"I am a variable!\"\n",
    "var"
   ]
  },
  {
   "cell_type": "markdown",
   "metadata": {},
   "source": [
    "Go ahead and see what removing the third line does to the output."
   ]
  },
  {
   "cell_type": "markdown",
   "metadata": {},
   "source": [
    "## Jupyter magics\n",
    "\n",
    "Jupyter magics are commands prepended with one or two %-sign that can be used across all kernels.\n",
    "\n",
    "* *line magics* have one % character and take the rest of the text on that line as parameters\n",
    "* *cell magics* have two %% characters and must be on the first line of the cell\n",
    "\n",
    "If you put a question mark at the end you can get help."
   ]
  },
  {
   "cell_type": "code",
   "execution_count": null,
   "metadata": {},
   "outputs": [],
   "source": [
    "%ls\n",
    "# go ahead and try what %ls? does"
   ]
  },
  {
   "cell_type": "markdown",
   "metadata": {},
   "source": [
    "You can capture the the output shell commands, that are prepended with a !."
   ]
  },
  {
   "cell_type": "code",
   "execution_count": null,
   "metadata": {},
   "outputs": [],
   "source": [
    "ls_output = !ls\n",
    "print(ls_output)"
   ]
  },
  {
   "cell_type": "markdown",
   "metadata": {},
   "source": [
    "With magics you need to use the magic %sx."
   ]
  },
  {
   "cell_type": "code",
   "execution_count": null,
   "metadata": {},
   "outputs": [],
   "source": [
    "ls_output = %sx ls\n",
    "print(ls_output)"
   ]
  },
  {
   "cell_type": "markdown",
   "metadata": {
    "collapsed": true
   },
   "source": [
    "You can get a list of all the available magics with"
   ]
  },
  {
   "cell_type": "code",
   "execution_count": null,
   "metadata": {},
   "outputs": [],
   "source": [
    "%lsmagic"
   ]
  },
  {
   "cell_type": "markdown",
   "metadata": {},
   "source": [
    "The list is generated on the fly, because you can actually write your own magics to extend the functionality of Jupyter.\n",
    "\n",
    "For help, remember the ? syntax.\n",
    "\n",
    "The following may be of particular use."
   ]
  },
  {
   "cell_type": "code",
   "execution_count": null,
   "metadata": {
    "collapsed": true
   },
   "outputs": [],
   "source": [
    "%timeit?\n",
    "# this is and it's cell magic brother %%timeit come in handy when\n",
    "# clarifying code performance"
   ]
  },
  {
   "cell_type": "code",
   "execution_count": 1,
   "metadata": {
    "collapsed": true
   },
   "outputs": [],
   "source": [
    "%load?\n",
    "# When you have a complex example and you're afraid students will mes it up\n",
    "# you can store it as a file and load the code from that file to a cell, so \n",
    "# it can be re-loaded after "
   ]
  },
  {
   "cell_type": "markdown",
   "metadata": {},
   "source": [
    "## Kernels\n",
    "\n",
    "Jupyter notebooks uses `kernels` to implement interfaces in different languages.\n",
    "\n",
    "For some kernels you also need to ensure that the prerequisites are installed, e.g. a `gcc` for the C kernel and a Common Lisp interpreter for the cl-jupyter kernel. You can use Jupyter magics to run the prerequisite commands to install them.\n",
    "\n",
    "For others, like the `bash` kernel bash is already installed and we can just install it using `pip`."
   ]
  },
  {
   "cell_type": "code",
   "execution_count": null,
   "metadata": {},
   "outputs": [],
   "source": [
    "!pip install bash_kernel\n",
    "!python -m bash_kernel.install"
   ]
  },
  {
   "cell_type": "markdown",
   "metadata": {
    "collapsed": true
   },
   "source": [
    "Now you need to refresh this page in your browser for the kernel to be visible and selectable under \n",
    "\n",
    "`Kernel -> Change Kernel`\n",
    "\n",
    "Likewise in the file selector view you need to refresh the page."
   ]
  },
  {
   "cell_type": "markdown",
   "metadata": {},
   "source": [
    "## IPython widgets and plotting\n",
    "\n",
    "Python and R support plotting quite well. Typically one needs to tell the plotting library to plot to a notebook and not to a file or new X window."
   ]
  },
  {
   "cell_type": "code",
   "execution_count": null,
   "metadata": {},
   "outputs": [],
   "source": [
    "%matplotlib inline \n",
    "#notice the cell magic that configures matplotlib to plot inside \n",
    "#the notebook\n",
    "import numpy as np\n",
    "import matplotlib.pyplot as plt\n",
    "x = np.linspace(0,2*np.pi,100)\n",
    "y = np.sin(x)\n",
    "plt.plot(x,y, 'r-')\n",
    "plt.show()"
   ]
  },
  {
   "cell_type": "markdown",
   "metadata": {},
   "source": [
    "IPython has a concept called [widgets](https://github.com/jupyter-widgets/ipywidgets), which can be used to create interactive experiences that don't require programming.\n",
    "\n",
    "At it's simplest an `interact` decorater reads the parameters of the method it decorates and creates HTML widgets for editing the values re-runs the function every time one of the values is changed.\n"
   ]
  },
  {
   "cell_type": "code",
   "execution_count": 29,
   "metadata": {},
   "outputs": [
    {
     "data": {
      "image/png": "[encoded data removed]",
      "text/plain": [
       "<matplotlib.figure.Figure at 0x7fc1dcc68940>"
      ]
     },
     "metadata": {},
     "output_type": "display_data"
    }
   ],
   "source": [
    "from ipywidgets import interact # IPython.html.widgets before IPython 4.0\n",
    "\n",
    "@interact\n",
    "def plot(mean_x=(-3.0,3.0, 0.5),  #start, stop and step\n",
    "         mean_y=(-3,3), # start and stop, but as integers\n",
    "         std_x=(0.0,3,0.1), \n",
    "         std_y=(0.0, 3, 0.1), \n",
    "         correlation=(0.0, 1.0, 0.05)):\n",
    "    means = [mean_x, mean_y]\n",
    "    cov = [[std_x**2, std_x*std_y*correlation], [std_x*std_y*correlation, std_y**2]]\n",
    "    multi = np.random.multivariate_normal(means, cov, 1000).T\n",
    "    plt.scatter(multi[0],multi[1])\n",
    "    plt.axis([-5, 5, -5, 5]) # fix axes to make changes more apparent\n",
    "    plt.show()\n",
    "    "
   ]
  },
  {
   "cell_type": "markdown",
   "metadata": {},
   "source": [
    "### More material \n",
    "\n",
    "For a quick start guide for running the notebook on your own machine see [here](https://jupyter-notebook-beginner-guide.readthedocs.io/en/latest/).\n",
    "\n",
    "For a more in-depth guide into all the bells and whistles in Jupyter you can check out the relevant [CodeRefinery lesson](https://github.com/coderefinery/jupyter)"
   ]
  }
 ],
 "metadata": {
  "kernelspec": {
   "display_name": "Python 3",
   "language": "python",
   "name": "python3"
  },
  "language_info": {
   "codemirror_mode": {
    "name": "ipython",
    "version": 3
   },
   "file_extension": ".py",
   "mimetype": "text/x-python",
   "name": "python",
   "nbconvert_exporter": "python",
   "pygments_lexer": "ipython3",
   "version": "3.5.2"
  },
  "widgets": {
   "state": {
    "f242ed22015440159ed5cc29e5bf8466": {
     "views": [
      {
       "cell_index": 28
      }
     ]
    }
   },
   "version": "1.2.0"
  }
 },
 "nbformat": 4,
 "nbformat_minor": 1
}
